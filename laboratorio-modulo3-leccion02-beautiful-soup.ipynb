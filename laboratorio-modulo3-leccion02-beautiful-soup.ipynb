{
 "cells": [
  {
   "cell_type": "markdown",
   "metadata": {},
   "source": [
    "<div style=\"text-align: center;\">\n",
    "  <img src=\"https://github.com/Hack-io-Data/Imagenes/blob/main/01-LogosHackio/logo_naranja@4x.png?raw=true\" alt=\"esquema\" />\n",
    "</div>"
   ]
  },
  {
   "cell_type": "markdown",
   "metadata": {},
   "source": [
    "## Contexto\n",
    "\n",
    "**Descripción:**\n",
    "\n",
    "SetMagic Productions es una empresa especializada en la provisión de servicios integrales para la realización de rodajes cinematográficos y audiovisuales. Nos dedicamos a facilitar tanto el atrezzo necesario para las producciones como los lugares idóneos para llevar a cabo los rodajes, ya sea en entornos al aire libre o en interiores.\n",
    "\n",
    "**Servicios Ofrecidos:**\n",
    "\n",
    "- **Atrezzo Creativo:** Contamos con un extenso catálogo de atrezzo que abarca desde accesorios hasta muebles y objetos temáticos para ambientar cualquier tipo de  escena.\n",
    "\n",
    "- **Locaciones Únicas:** Nuestra empresa ofrece una amplia selección de locaciones, que incluyen desde escenarios naturales como playas, bosques y montañas, hasta espacios interiores como estudios, casas históricas y edificios emblemáticos.\n",
    "- **Servicios de Producción:** Además de proporcionar atrezzo y locaciones, también ofrecemos servicios de producción audiovisual, incluyendo equipos de filmación, personal técnico y servicios de postproducción.\n",
    "\n",
    "**Herramientas y Tecnologías:**\n",
    "\n",
    "Para recopilar información sobre nuevas locaciones y tendencias en atrezzo, utilizamos herramientas de web scraping como Beautiful Soup y Selenium para extraer datos de sitios web relevantes y redes sociales especializadas en cine y producción audiovisual. También integramos APIs de plataformas de alquiler de locaciones y bases de datos de atrezzo para acceder a información actualizada y detallada.\n",
    "\n",
    "**Almacenamiento de Datos:** (A trabajar la próxima semana)\n",
    "\n",
    "La información recopilada mediante web scraping y APIs se almacenará tanto en una base de datos relacional SQL como en una base de datos no relacional MongoDB . Estas base de datos nos permite organizar eficientemente la información sobre locaciones, atrezzo, clientes y proyectos en curso, facilitando su acceso y gestión.\n",
    "\n",
    "**Objetivo:**\n",
    "\n",
    "Nuestro objetivo principal es proporcionar a nuestros clientes una experiencia fluida y personalizada en la búsqueda y selección de locaciones y atrezzo para sus proyectos audiovisuales. Utilizando tecnologías avanzadas y una amplia red de contactos en la industria, nos esforzamos por ofrecer soluciones creativas y de alta calidad que satisfagan las necesidades específicas de cada producción.\n",
    "\n",
    "\n",
    "## Lab: Extracción de Información con Beautiful Soup\n",
    "\n",
    "En este laboratorio seguirás enriqueciendo la base de datos para ofrecer a tus clientes un servicio más completo y personalizado. Para lograr esto, extraerás información valiosa sobre objetos de atrezzo de una web especializada. Utilizarás técnicas de web scraping con la biblioteca **Beautiful Soup** para obtener y organizar los datos de manera eficiente.\n",
    "\n",
    "Trabajarás con la siguiente URL: [Atrezzo Vázquez](https://atrezzovazquez.es/shop.php?search_type=-1&search_terms=&limit=48&page=1). Esta página contiene una gran cantidad de objetos de atrezzo que pueden ser de interés para un proyecto de rodaje. Tu tarea será extraer información relevante de los productos listados en las primeras 100 páginas.\n",
    "\n",
    "1. **Navegación y Extracción de Múltiples Páginas**:\n",
    "\n",
    "   - La página web contiene varios elementos distribuidos en distintas páginas. Tu objetivo será iterar a través de las 100 primeras páginas y extraer la información deseada.\n",
    "\n",
    "   - Debes asegurarte de que tu código sea capaz de navegar automáticamente por estas páginas y extraer datos de manera continua.\n",
    "\n",
    "2. **Verificación del Código de Estado de la Respuesta**:\n",
    "\n",
    "   - Antes de extraer cualquier información, es fundamental verificar que la solicitud a la página web ha sido exitosa. Un código de estado 200 indica que la página se ha cargado correctamente.\n",
    "\n",
    "   - Si el código no es 200, debes imprimir un mensaje de error y detener la ejecución de la extracción para evitar problemas posteriores.\n",
    "\n",
    "3. **Extracción de Información Específica**:\n",
    "\n",
    "   De cada página, deberás extraer los siguientes detalles de los objetos de atrezzo:\n",
    "\n",
    "   - **Nombre del Objeto**: El nombre o identificador del objeto.\n",
    "\n",
    "   - **Categoría**: La categoría en la que se clasifica el objeto (ej.: mobiliario, decorado, utilería, etc.).\n",
    "\n",
    "   - **Sección**: La sección específica dentro de la categoría.\n",
    "\n",
    "   - **Descripción**: Una breve descripción del objeto que puede incluir detalles sobre su estilo, material o uso.\n",
    "\n",
    "   - **Dimensiones**: El tamaño del objeto en formato (largo x ancho x alto).\n",
    "\n",
    "   - **Enlace a la Imagen**: El link a la imagen del objeto, útil para tener una vista previa visual.\n",
    "\n",
    "4. **Organización de los Datos en un Diccionario**:\n",
    "\n",
    "   Una vez extraída la información, deberás organizarla en un diccionario con las siguientes claves:\n",
    "\n",
    "   - `\"nombre\"`: Nombres del objeto.\n",
    "\n",
    "   - `\"categoria\"`: Categoría a la que pertenece el objeto.\n",
    "\n",
    "   - `\"seccion\"`: Sección específica dentro de la categoría.\n",
    "\n",
    "   - `\"descripcion\"`: Breve descripción del objeto.\n",
    "\n",
    "   - `\"dimensiones\"`: Dimensiones del objeto en el formato adecuado.\n",
    "\n",
    "   - `\"imagen\"`: URL de la imagen del objeto.\n",
    "\n",
    "5. **Almacenamiento de la Información en un DataFrame**:\n",
    "\n",
    "   Una vez que tengas toda la información organizada en diccionarios, el siguiente paso es convertirla en un DataFrame de Pandas. Este DataFrame te permitirá manipular y analizar los datos con facilidad. Tu DataFrame debería verse similar al ejemplo proporcionado, donde cada fila representa un objeto diferente y cada columna contiene la información extraída:\n",
    "\n",
    "![Dataframe](https://github.com/Hack-io-Data/Imagenes/blob/main/02-Imagenes/BS/df_atrezzo.png?raw=true)\n",
    "\n",
    "\n",
    "6.  Consideraciones Adicionales:\n",
    "\n",
    "- Asegúrate de manejar posibles errores o excepciones durante el scraping, como tiempos de espera agotados, páginas inaccesibles o datos faltantes.\n",
    "\n",
    "- Recuerda que el scraping debe hacerse de manera respetuosa, evitando sobrecargar el servidor de la página web (puedes usar pausas entre solicitudes).\n",
    "\n",
    "- Finalmente, asegúrate de almacenar el DataFrame en un archivo CSV para que puedas reutilizar esta información en análisis futuros.\n"
   ]
  },
  {
   "cell_type": "markdown",
   "metadata": {},
   "source": []
  },
  {
   "cell_type": "code",
   "execution_count": 60,
   "metadata": {},
   "outputs": [],
   "source": [
    "from bs4 import BeautifulSoup\n",
    "import requests\n",
    "import pandas as pd\n",
    "import numpy as np\n",
    "from tqdm import tqdm\n",
    "from datetime import datetime"
   ]
  },
  {
   "cell_type": "markdown",
   "metadata": {},
   "source": [
    "1. **Navegación y Extracción de Múltiples Páginas**:\n",
    "\n",
    "   - La página web contiene varios elementos distribuidos en distintas páginas. Tu objetivo será iterar a través de las 100 primeras páginas y extraer la información deseada.\n",
    "\n",
    "   - Debes asegurarte de que tu código sea capaz de navegar automáticamente por estas páginas y extraer datos de manera continua."
   ]
  },
  {
   "cell_type": "code",
   "execution_count": 61,
   "metadata": {},
   "outputs": [],
   "source": [
    "def obtener_contenido_pagina(i):\n",
    "    url = f'https://atrezzovazquez.es/shop.php?search_type=-1&search_terms=&limit=48&page={i}'\n",
    "    respuesta = requests.get(url)\n",
    "    if respuesta.status_code == 200:\n",
    "        return BeautifulSoup(respuesta.content, 'html.parser')\n",
    "    else:\n",
    "        return None\n",
    "\n"
   ]
  },
  {
   "cell_type": "code",
   "execution_count": 62,
   "metadata": {},
   "outputs": [
    {
     "name": "stderr",
     "output_type": "stream",
     "text": [
      "100%|██████████| 100/100 [00:40<00:00,  2.45it/s]\n"
     ]
    }
   ],
   "source": [
    "listadeitems=[]\n",
    "for i in tqdm(range(1,101)):\n",
    "    sopa=obtener_contenido_pagina(i).findAll('div', {'class': 'col-md-3 col-sm-4 shop-grid-item'})\n",
    "    listadeitems.append(sopa)"
   ]
  },
  {
   "cell_type": "code",
   "execution_count": 63,
   "metadata": {},
   "outputs": [],
   "source": [
    "lista_unicaitems = [elemento for sublista in listadeitems for elemento in sublista]"
   ]
  },
  {
   "cell_type": "markdown",
   "metadata": {},
   "source": [
    "2. **Verificación del Código de Estado de la Respuesta**:\n",
    "\n",
    "   - Antes de extraer cualquier información, es fundamental verificar que la solicitud a la página web ha sido exitosa. Un código de estado 200 indica que la página se ha cargado correctamente.\n",
    "\n",
    "   - Si el código no es 200, debes imprimir un mensaje de error y detener la ejecución de la extracción para evitar problemas posteriores."
   ]
  },
  {
   "cell_type": "code",
   "execution_count": 64,
   "metadata": {},
   "outputs": [],
   "source": [
    "# lista_unicaitems"
   ]
  },
  {
   "cell_type": "markdown",
   "metadata": {},
   "source": [
    "3. **Extracción de Información Específica**:\n",
    "\n",
    "De cada página, deberás extraer los siguientes detalles de los objetos de atrezzo:\n",
    "\n",
    "- **Nombre del Objeto**: El nombre o identificador del objeto.\n",
    "\n",
    "- **Categoría**: La categoría en la que se clasifica el objeto (ej.: mobiliario, decorado, utilería, etc.).\n",
    "\n",
    "- **Sección**: La sección específica dentro de la categoría.\n",
    "\n",
    "- **Descripción**: Una breve descripción del objeto que puede incluir detalles sobre su estilo, material o uso.\n",
    "\n",
    "- **Dimensiones**: El tamaño del objeto en formato (largo x ancho x alto).\n",
    "\n",
    "- **Enlace a la Imagen**: El link a la imagen del objeto, útil para tener una vista previa visual."
   ]
  },
  {
   "cell_type": "markdown",
   "metadata": {},
   "source": [
    "- **Nombre del Objeto**: El nombre o identificador del objeto."
   ]
  },
  {
   "cell_type": "code",
   "execution_count": 65,
   "metadata": {},
   "outputs": [],
   "source": [
    "def extraer_nombre(items):\n",
    "    listanombres = []\n",
    "    for item in items:\n",
    "        try:\n",
    "            nombre = item.find('a', {'class': 'title'}).getText()\n",
    "            listanombres.append(nombre if nombre != '' else '')\n",
    "        except:\n",
    "            listanombres.append('')\n",
    "    return pd.DataFrame(listanombres, columns=['nombre'])\n",
    "\n",
    "df_nombres=extraer_nombre(lista_unicaitems)"
   ]
  },
  {
   "cell_type": "markdown",
   "metadata": {},
   "source": [
    "- **Categoría**: La categoría en la que se clasifica el objeto (ej.: mobiliario, decorado, utilería, etc.)."
   ]
  },
  {
   "cell_type": "code",
   "execution_count": 66,
   "metadata": {},
   "outputs": [],
   "source": [
    "def extraer_categoria(items):\n",
    "    listacategorias = []\n",
    "    for item in items:\n",
    "        try:\n",
    "            categoria = item.find('a', {'class': 'tag'}).getText()\n",
    "            listacategorias.append(categoria if categoria != '' else '')\n",
    "        except:\n",
    "            listacategorias.append('')\n",
    "    return pd.DataFrame(listacategorias, columns=['categoria'])\n",
    "\n",
    "df_categoria=extraer_categoria(lista_unicaitems)"
   ]
  },
  {
   "cell_type": "markdown",
   "metadata": {},
   "source": [
    "\n",
    "\n",
    "- **Sección**: La sección específica dentro de la categoría.\n"
   ]
  },
  {
   "cell_type": "code",
   "execution_count": 67,
   "metadata": {},
   "outputs": [],
   "source": [
    "def extraer_seccion(items):\n",
    "    listasecciones = []\n",
    "    for item in items:\n",
    "        try:\n",
    "            seccion = item.find('div', {'class': 'cat-sec-box'}).getText().replace(\"\\xa0\", '')\n",
    "            listasecciones.append(seccion if seccion != '' else '')\n",
    "        except:\n",
    "            listasecciones.append('')\n",
    "    return pd.DataFrame(listasecciones, columns=['seccion'])\n",
    "\n",
    "df_seccion=extraer_seccion(lista_unicaitems)"
   ]
  },
  {
   "cell_type": "markdown",
   "metadata": {},
   "source": [
    "\n",
    "- **Descripción**: Una breve descripción del objeto que puede incluir detalles sobre su estilo, material o uso.\n"
   ]
  },
  {
   "cell_type": "code",
   "execution_count": 68,
   "metadata": {},
   "outputs": [],
   "source": [
    "def extraer_descripcion(items):\n",
    "    listadescripciones = []\n",
    "    for item in items:\n",
    "        try:\n",
    "            descripcion = item.find('div', {'class' : 'article-container style-1'}).find('p').getText()\n",
    "            listadescripciones.append(descripcion)\n",
    "        except:\n",
    "            listadescripciones.append('')\n",
    "    return pd.DataFrame(listadescripciones, columns=['descripcion'])\n",
    "\n",
    "df_descripcion=extraer_descripcion(lista_unicaitems)"
   ]
  },
  {
   "cell_type": "markdown",
   "metadata": {},
   "source": [
    "- **Dimensiones**: El tamaño del objeto en formato (largo x ancho x alto)."
   ]
  },
  {
   "cell_type": "code",
   "execution_count": 69,
   "metadata": {},
   "outputs": [],
   "source": [
    "def extraer_dimensiones(items):\n",
    "    listadimensiones = []\n",
    "    for item in items:\n",
    "        try:\n",
    "            dimension = item.find('div', {'class': 'price'}).getText().replace('\\n', '')\n",
    "            listadimensiones.append(dimension if dimension != '' else '')\n",
    "        except:\n",
    "            listadimensiones.append('')\n",
    "    return pd.DataFrame(listadimensiones, columns=['dimensiones'])\n",
    "\n",
    "df_dimensiones=extraer_dimensiones(lista_unicaitems)"
   ]
  },
  {
   "cell_type": "markdown",
   "metadata": {},
   "source": [
    "- **Enlace a la Imagen**: El link a la imagen del objeto, útil para tener una vista previa visual."
   ]
  },
  {
   "cell_type": "code",
   "execution_count": 86,
   "metadata": {},
   "outputs": [],
   "source": [
    "def extraer_url_imagen(items):\n",
    "    urls_imagen = []\n",
    "    for item in items:\n",
    "        try:\n",
    "            url_imagen = item.find('div', {'class': 'product-image'}).find('img')['src']\n",
    "            urls_imagen.append(url_imagen if url_imagen != '' else '')\n",
    "        except:\n",
    "            urls_imagen.append('')\n",
    "    return pd.DataFrame(urls_imagen, columns=['url_imagen'])\n",
    "\n",
    "df_imagenes=extraer_url_imagen(lista_unicaitems)"
   ]
  },
  {
   "cell_type": "code",
   "execution_count": 90,
   "metadata": {},
   "outputs": [],
   "source": [
    "df_imagenes['url_imagen']='https://atrezzovazquez.es/'+df_imagenes['url_imagen']"
   ]
  },
  {
   "cell_type": "markdown",
   "metadata": {},
   "source": [
    "4. **Organización de los Datos en un Diccionario**:\n",
    "\n",
    "   Una vez extraída la información, deberás organizarla en un diccionario con las siguientes claves:\n",
    "\n",
    "   - `\"nombre\"`: Nombres del objeto.\n",
    "\n",
    "   - `\"categoria\"`: Categoría a la que pertenece el objeto.\n",
    "\n",
    "   - `\"seccion\"`: Sección específica dentro de la categoría.\n",
    "\n",
    "   - `\"descripcion\"`: Breve descripción del objeto.\n",
    "\n",
    "   - `\"dimensiones\"`: Dimensiones del objeto en el formato adecuado.\n",
    "\n",
    "   - `\"imagen\"`: URL de la imagen del objeto."
   ]
  },
  {
   "cell_type": "code",
   "execution_count": 91,
   "metadata": {},
   "outputs": [],
   "source": [
    "df_concatenado = pd.concat([df_nombres, df_categoria, df_seccion, df_descripcion,df_dimensiones,df_imagenes,], axis=1)"
   ]
  },
  {
   "cell_type": "code",
   "execution_count": 92,
   "metadata": {},
   "outputs": [],
   "source": [
    "df_concatenado['fecha'] = datetime.now().date()"
   ]
  },
  {
   "cell_type": "code",
   "execution_count": 94,
   "metadata": {},
   "outputs": [
    {
     "data": {
      "text/html": [
       "<div>\n",
       "<style scoped>\n",
       "    .dataframe tbody tr th:only-of-type {\n",
       "        vertical-align: middle;\n",
       "    }\n",
       "\n",
       "    .dataframe tbody tr th {\n",
       "        vertical-align: top;\n",
       "    }\n",
       "\n",
       "    .dataframe thead th {\n",
       "        text-align: right;\n",
       "    }\n",
       "</style>\n",
       "<table border=\"1\" class=\"dataframe\">\n",
       "  <thead>\n",
       "    <tr style=\"text-align: right;\">\n",
       "      <th></th>\n",
       "      <th>nombre</th>\n",
       "      <th>categoria</th>\n",
       "      <th>seccion</th>\n",
       "      <th>descripcion</th>\n",
       "      <th>dimensiones</th>\n",
       "      <th>url_imagen</th>\n",
       "      <th>fecha</th>\n",
       "    </tr>\n",
       "  </thead>\n",
       "  <tbody>\n",
       "    <tr>\n",
       "      <th>0</th>\n",
       "      <td>ALF1</td>\n",
       "      <td>Alfombra</td>\n",
       "      <td>Arabe</td>\n",
       "      <td>Alfombra persa marrón (tiene unas manchas que ...</td>\n",
       "      <td>460x340x1 (cm)</td>\n",
       "      <td>https://atrezzovazquez.es/admin/img_prod/ALF1/...</td>\n",
       "      <td>2024-10-16</td>\n",
       "    </tr>\n",
       "    <tr>\n",
       "      <th>1</th>\n",
       "      <td>ADO1</td>\n",
       "      <td>Adornos</td>\n",
       "      <td></td>\n",
       "      <td>Vitrina con abanico</td>\n",
       "      <td>100x10x60 (cm)</td>\n",
       "      <td>https://atrezzovazquez.es/admin/img_prod/ADO1/...</td>\n",
       "      <td>2024-10-16</td>\n",
       "    </tr>\n",
       "    <tr>\n",
       "      <th>2</th>\n",
       "      <td>AFC1</td>\n",
       "      <td>Alfombra de cama</td>\n",
       "      <td>Dormitorio</td>\n",
       "      <td>Alfombrín de cama círculos azules</td>\n",
       "      <td>150x72x1 (cm)</td>\n",
       "      <td>https://atrezzovazquez.es/admin/img_prod/AFC1/...</td>\n",
       "      <td>2024-10-16</td>\n",
       "    </tr>\n",
       "    <tr>\n",
       "      <th>3</th>\n",
       "      <td>AP1</td>\n",
       "      <td>Aparador</td>\n",
       "      <td>AlemánComedor</td>\n",
       "      <td>Aparador alemán 2 cuerpos</td>\n",
       "      <td>207x64x300 (cm)</td>\n",
       "      <td>https://atrezzovazquez.es/admin/img_prod/AP1/A...</td>\n",
       "      <td>2024-10-16</td>\n",
       "    </tr>\n",
       "    <tr>\n",
       "      <th>4</th>\n",
       "      <td>AST1</td>\n",
       "      <td>Atrezzo astronomia</td>\n",
       "      <td>Astronomía</td>\n",
       "      <td>Pie de madera para astrolabio</td>\n",
       "      <td>78x78x130 (cm)</td>\n",
       "      <td>https://atrezzovazquez.es/admin/img_prod/AST1/...</td>\n",
       "      <td>2024-10-16</td>\n",
       "    </tr>\n",
       "    <tr>\n",
       "      <th>...</th>\n",
       "      <td>...</td>\n",
       "      <td>...</td>\n",
       "      <td>...</td>\n",
       "      <td>...</td>\n",
       "      <td>...</td>\n",
       "      <td>...</td>\n",
       "      <td>...</td>\n",
       "    </tr>\n",
       "    <tr>\n",
       "      <th>4795</th>\n",
       "      <td>TYV65</td>\n",
       "      <td>Televisores y vídeos</td>\n",
       "      <td>Televisor</td>\n",
       "      <td>Televisión caja gris Toshiba 18\"</td>\n",
       "      <td>62x46x43 (cm)</td>\n",
       "      <td>https://atrezzovazquez.es/admin/img_prod/TYV65...</td>\n",
       "      <td>2024-10-16</td>\n",
       "    </tr>\n",
       "    <tr>\n",
       "      <th>4796</th>\n",
       "      <td>PV65</td>\n",
       "      <td>Pie de vela</td>\n",
       "      <td>Candelabro</td>\n",
       "      <td>Candelabro de hierro en línea 3 luces</td>\n",
       "      <td>0x0x0 (cm)</td>\n",
       "      <td>https://atrezzovazquez.es/admin/img_prod/PV65/...</td>\n",
       "      <td>2024-10-16</td>\n",
       "    </tr>\n",
       "    <tr>\n",
       "      <th>4797</th>\n",
       "      <td>TP65</td>\n",
       "      <td>Tapices y estandartes</td>\n",
       "      <td>Salón</td>\n",
       "      <td>Tapiz bordado en terciopelo de una ciudad con ...</td>\n",
       "      <td>180x5x122 (cm)</td>\n",
       "      <td>https://atrezzovazquez.es/admin/img_prod/TP65/...</td>\n",
       "      <td>2024-10-16</td>\n",
       "    </tr>\n",
       "    <tr>\n",
       "      <th>4798</th>\n",
       "      <td>PER65</td>\n",
       "      <td>Perchero</td>\n",
       "      <td>RecibidorItalianoDormitorio</td>\n",
       "      <td>Perchero de colgar italiano formica crema y bo...</td>\n",
       "      <td>1x1x1 (cm)</td>\n",
       "      <td>https://atrezzovazquez.es/admin/img_prod/PER65...</td>\n",
       "      <td>2024-10-16</td>\n",
       "    </tr>\n",
       "    <tr>\n",
       "      <th>4799</th>\n",
       "      <td>AFC65</td>\n",
       "      <td>Alfombra de cama</td>\n",
       "      <td>Dormitorio</td>\n",
       "      <td>Alfombrín de cama verde y flores</td>\n",
       "      <td>120x60x1 (cm)</td>\n",
       "      <td>https://atrezzovazquez.es/admin/img_prod/AFC65...</td>\n",
       "      <td>2024-10-16</td>\n",
       "    </tr>\n",
       "  </tbody>\n",
       "</table>\n",
       "<p>4800 rows × 7 columns</p>\n",
       "</div>"
      ],
      "text/plain": [
       "     nombre              categoria                      seccion  \\\n",
       "0      ALF1               Alfombra                        Arabe   \n",
       "1      ADO1                Adornos                                \n",
       "2      AFC1       Alfombra de cama                   Dormitorio   \n",
       "3       AP1               Aparador                AlemánComedor   \n",
       "4      AST1     Atrezzo astronomia                   Astronomía   \n",
       "...     ...                    ...                          ...   \n",
       "4795  TYV65   Televisores y vídeos                    Televisor   \n",
       "4796   PV65            Pie de vela                   Candelabro   \n",
       "4797   TP65  Tapices y estandartes                        Salón   \n",
       "4798  PER65               Perchero  RecibidorItalianoDormitorio   \n",
       "4799  AFC65       Alfombra de cama                   Dormitorio   \n",
       "\n",
       "                                            descripcion      dimensiones  \\\n",
       "0     Alfombra persa marrón (tiene unas manchas que ...   460x340x1 (cm)   \n",
       "1                                   Vitrina con abanico   100x10x60 (cm)   \n",
       "2                     Alfombrín de cama círculos azules    150x72x1 (cm)   \n",
       "3                             Aparador alemán 2 cuerpos  207x64x300 (cm)   \n",
       "4                         Pie de madera para astrolabio   78x78x130 (cm)   \n",
       "...                                                 ...              ...   \n",
       "4795                   Televisión caja gris Toshiba 18\"    62x46x43 (cm)   \n",
       "4796              Candelabro de hierro en línea 3 luces       0x0x0 (cm)   \n",
       "4797  Tapiz bordado en terciopelo de una ciudad con ...   180x5x122 (cm)   \n",
       "4798  Perchero de colgar italiano formica crema y bo...       1x1x1 (cm)   \n",
       "4799                   Alfombrín de cama verde y flores    120x60x1 (cm)   \n",
       "\n",
       "                                             url_imagen       fecha  \n",
       "0     https://atrezzovazquez.es/admin/img_prod/ALF1/...  2024-10-16  \n",
       "1     https://atrezzovazquez.es/admin/img_prod/ADO1/...  2024-10-16  \n",
       "2     https://atrezzovazquez.es/admin/img_prod/AFC1/...  2024-10-16  \n",
       "3     https://atrezzovazquez.es/admin/img_prod/AP1/A...  2024-10-16  \n",
       "4     https://atrezzovazquez.es/admin/img_prod/AST1/...  2024-10-16  \n",
       "...                                                 ...         ...  \n",
       "4795  https://atrezzovazquez.es/admin/img_prod/TYV65...  2024-10-16  \n",
       "4796  https://atrezzovazquez.es/admin/img_prod/PV65/...  2024-10-16  \n",
       "4797  https://atrezzovazquez.es/admin/img_prod/TP65/...  2024-10-16  \n",
       "4798  https://atrezzovazquez.es/admin/img_prod/PER65...  2024-10-16  \n",
       "4799  https://atrezzovazquez.es/admin/img_prod/AFC65...  2024-10-16  \n",
       "\n",
       "[4800 rows x 7 columns]"
      ]
     },
     "execution_count": 94,
     "metadata": {},
     "output_type": "execute_result"
    }
   ],
   "source": [
    "df_concatenado"
   ]
  },
  {
   "cell_type": "markdown",
   "metadata": {},
   "source": [
    "5. **Almacenamiento de la Información en un DataFrame**:\n",
    "\n",
    "   Una vez que tengas toda la información organizada en diccionarios, el siguiente paso es convertirla en un DataFrame de Pandas. Este DataFrame te permitirá manipular y analizar los datos con facilidad. Tu DataFrame debería verse similar al ejemplo proporcionado, donde cada fila representa un objeto diferente y cada columna contiene la información extraída:"
   ]
  },
  {
   "cell_type": "code",
   "execution_count": 95,
   "metadata": {},
   "outputs": [],
   "source": [
    "df_concatenado.to_csv(f'df_atrezo_{datetime.now().date()}.csv')"
   ]
  }
 ],
 "metadata": {
  "kernelspec": {
   "display_name": "Python 3",
   "language": "python",
   "name": "python3"
  },
  "language_info": {
   "codemirror_mode": {
    "name": "ipython",
    "version": 3
   },
   "file_extension": ".py",
   "mimetype": "text/x-python",
   "name": "python",
   "nbconvert_exporter": "python",
   "pygments_lexer": "ipython3",
   "version": "3.12.7"
  }
 },
 "nbformat": 4,
 "nbformat_minor": 2
}
